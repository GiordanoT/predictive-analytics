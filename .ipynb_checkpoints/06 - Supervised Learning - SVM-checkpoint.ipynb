{
 "cells": [
  {
   "cell_type": "code",
   "execution_count": 1,
   "id": "aa5db454",
   "metadata": {},
   "outputs": [],
   "source": [
    "import pandas as pd\n",
    "import numpy as np\n",
    "from sklearn.svm import SVC\n",
    "from sklearn.model_selection import train_test_split\n",
    "from sklearn.metrics import accuracy_score"
   ]
  },
  {
   "cell_type": "code",
   "execution_count": 2,
   "id": "a14c85d4",
   "metadata": {},
   "outputs": [],
   "source": [
    "df = pd.read_csv('activities_cleaned.csv', sep=';', index_col=0)\n",
    "# df = df.sample(frac=1).reset_index(drop=True)\n",
    "# df = df[0:100000]"
   ]
  },
  {
   "cell_type": "code",
   "execution_count": 3,
   "id": "f1c6be7c",
   "metadata": {},
   "outputs": [],
   "source": [
    "# Splitting data into training and testing ones.\n",
    "X = df.drop(columns=['Activity', 'Subject'])\n",
    "y = df['Activity']\n",
    "X_train, X_test, y_train, y_test = train_test_split(X, y, train_size=0.8) "
   ]
  },
  {
   "cell_type": "code",
   "execution_count": 4,
   "id": "eda62a45",
   "metadata": {},
   "outputs": [],
   "source": [
    "# Training the model.\n",
    "svm_model = SVC()\n",
    "svm_model.fit(X_train, y_train)\n",
    "y_predicted_train = svm_model.predict(X_train)\n",
    "y_predicted_test = svm_model.predict(X_test)\n",
    "training_acc = round(accuracy_score(y_train, y_predicted_train), 3)\n",
    "testing_acc = round(accuracy_score(y_test, y_predicted_test), 3)"
   ]
  },
  {
   "cell_type": "code",
   "execution_count": 5,
   "id": "af8f0b19",
   "metadata": {},
   "outputs": [
    {
     "name": "stdout",
     "output_type": "stream",
     "text": [
      "Training Accuracy: 0.745\n",
      "Testing Accuracy: 0.733\n"
     ]
    }
   ],
   "source": [
    "# Checking accuracy.\n",
    "print(f'Training Accuracy: {training_acc}')\n",
    "print(f'Testing Accuracy: {testing_acc}')"
   ]
  }
 ],
 "metadata": {
  "kernelspec": {
   "display_name": "Python 3 (ipykernel)",
   "language": "python",
   "name": "python3"
  },
  "language_info": {
   "codemirror_mode": {
    "name": "ipython",
    "version": 3
   },
   "file_extension": ".py",
   "mimetype": "text/x-python",
   "name": "python",
   "nbconvert_exporter": "python",
   "pygments_lexer": "ipython3",
   "version": "3.8.16"
  }
 },
 "nbformat": 4,
 "nbformat_minor": 5
}
