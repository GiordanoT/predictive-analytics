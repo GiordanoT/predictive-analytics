{
 "cells": [
  {
   "cell_type": "code",
   "execution_count": 6,
   "id": "e1651aff",
   "metadata": {},
   "outputs": [],
   "source": [
    "import pandas as pd\n",
    "from sklearn.tree import DecisionTreeClassifier\n",
    "from sklearn.model_selection import train_test_split\n",
    "from sklearn.metrics import accuracy_score\n",
    "from sklearn.tree import plot_tree\n",
    "import matplotlib.pyplot as plt"
   ]
  },
  {
   "cell_type": "code",
   "execution_count": 13,
   "id": "3ef8a4cd",
   "metadata": {},
   "outputs": [],
   "source": [
    "df = pd.read_csv('activities_cleaned.csv', sep=';', index_col=0)"
   ]
  },
  {
   "cell_type": "code",
   "execution_count": 8,
   "id": "c1e34048",
   "metadata": {},
   "outputs": [],
   "source": [
    "# Splitting data into training and testing ones.\n",
    "X = df.drop(columns=['Activity', 'Subject'])\n",
    "y = df['Activity']\n",
    "X_train, X_test, y_train, y_test = train_test_split(X, y, train_size=0.8) "
   ]
  },
  {
   "cell_type": "code",
   "execution_count": 9,
   "id": "c30bf353",
   "metadata": {},
   "outputs": [],
   "source": [
    "# Training the model.\n",
    "tree_model = DecisionTreeClassifier(criterion='entropy')\n",
    "tree_model.fit(X_train, y_train)\n",
    "y_predicted_train = tree_model.predict(X_train)\n",
    "y_predicted_test = tree_model.predict(X_test)\n",
    "training_acc = round(accuracy_score(y_train, y_predicted_train), 3)\n",
    "testing_acc = round(accuracy_score(y_test, y_predicted_test), 3)"
   ]
  },
  {
   "cell_type": "code",
   "execution_count": null,
   "id": "ef2fffd0",
   "metadata": {},
   "outputs": [],
   "source": [
    "# Checking accuracy.\n",
    "print(f'Training Accuracy: {training_acc}')\n",
    "print(f'Testing Accuracy: {testing_acc}')"
   ]
  }
 ],
 "metadata": {
  "kernelspec": {
   "display_name": "Python 3 (ipykernel)",
   "language": "python",
   "name": "python3"
  },
  "language_info": {
   "codemirror_mode": {
    "name": "ipython",
    "version": 3
   },
   "file_extension": ".py",
   "mimetype": "text/x-python",
   "name": "python",
   "nbconvert_exporter": "python",
   "pygments_lexer": "ipython3",
   "version": "3.8.16"
  }
 },
 "nbformat": 4,
 "nbformat_minor": 5
}
