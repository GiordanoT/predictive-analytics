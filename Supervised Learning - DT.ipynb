{
 "cells": [
  {
   "cell_type": "code",
   "execution_count": 1,
   "id": "e1651aff",
   "metadata": {},
   "outputs": [],
   "source": [
    "import pandas as pd\n",
    "from sklearn.tree import DecisionTreeClassifier\n",
    "from sklearn.model_selection import train_test_split\n",
    "from sklearn.metrics import accuracy_score"
   ]
  },
  {
   "cell_type": "code",
   "execution_count": 2,
   "id": "3ef8a4cd",
   "metadata": {},
   "outputs": [],
   "source": [
    "df = pd.read_csv('activities_cleaned.csv', sep=';', index_col=0)"
   ]
  },
  {
   "cell_type": "code",
   "execution_count": 3,
   "id": "c1e34048",
   "metadata": {},
   "outputs": [],
   "source": [
    "target = df['Activity']\n",
    "data = df.drop(columns=['Activity', 'Subject'])"
   ]
  },
  {
   "cell_type": "code",
   "execution_count": 4,
   "id": "c30bf353",
   "metadata": {},
   "outputs": [],
   "source": [
    "X_train, X_test, y_train, y_test = train_test_split(data, target, train_size=0.8) \n",
    "tree_model = DecisionTreeClassifier(criterion='entropy')\n",
    "tree_model.fit(X_train, y_train)\n",
    "y_predicted_train = tree_model.predict(X_train)\n",
    "y_predicted_test = tree_model.predict(X_test)\n",
    "training_acc = round(accuracy_score(y_train, y_predicted_train), 3)\n",
    "testing_acc = round(accuracy_score(y_test, y_predicted_test), 3)"
   ]
  },
  {
   "cell_type": "code",
   "execution_count": 5,
   "id": "ef2fffd0",
   "metadata": {},
   "outputs": [
    {
     "name": "stdout",
     "output_type": "stream",
     "text": [
      "Training Accuracy: 0.997\n",
      "Testing Accuracy: 0.919\n"
     ]
    }
   ],
   "source": [
    "print(f'Training Accuracy: {training_acc}')\n",
    "print(f'Testing Accuracy: {testing_acc}')"
   ]
  }
 ],
 "metadata": {
  "kernelspec": {
   "display_name": "Python 3 (ipykernel)",
   "language": "python",
   "name": "python3"
  },
  "language_info": {
   "codemirror_mode": {
    "name": "ipython",
    "version": 3
   },
   "file_extension": ".py",
   "mimetype": "text/x-python",
   "name": "python",
   "nbconvert_exporter": "python",
   "pygments_lexer": "ipython3",
   "version": "3.8.16"
  }
 },
 "nbformat": 4,
 "nbformat_minor": 5
}
