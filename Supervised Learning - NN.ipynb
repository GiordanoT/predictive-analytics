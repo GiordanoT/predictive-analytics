{
 "cells": [
  {
   "cell_type": "code",
   "execution_count": 1,
   "id": "4b6873ef",
   "metadata": {},
   "outputs": [],
   "source": [
    "import pandas as pd\n",
    "import numpy as np\n",
    "from sklearn.model_selection import train_test_split\n",
    "from sklearn.neural_network import MLPClassifier\n",
    "from sklearn.metrics import accuracy_score"
   ]
  },
  {
   "cell_type": "code",
   "execution_count": 2,
   "id": "09f229ae",
   "metadata": {},
   "outputs": [],
   "source": [
    "df = pd.read_csv('activities_cleaned.csv', sep=';', index_col=0)"
   ]
  },
  {
   "cell_type": "code",
   "execution_count": 3,
   "id": "19bd92f6",
   "metadata": {},
   "outputs": [],
   "source": [
    "X = df.drop(columns=['Activity', 'Subject'])\n",
    "y = df['Activity']\n",
    "X_train, X_test, y_train, y_test = train_test_split(X, y, train_size=0.8) "
   ]
  },
  {
   "cell_type": "code",
   "execution_count": 4,
   "id": "795f21df",
   "metadata": {},
   "outputs": [],
   "source": [
    "clf_model = MLPClassifier(max_iter=1500)\n",
    "clf_model.fit(X_train, y_train)\n",
    "y_predicted_train = clf_model.predict(X_train)\n",
    "y_predicted_test = clf_model.predict(X_test)\n",
    "training_acc = round(accuracy_score(y_train, y_predicted_train), 3)\n",
    "testing_acc = round(accuracy_score(y_test, y_predicted_test), 3)"
   ]
  },
  {
   "cell_type": "code",
   "execution_count": 5,
   "id": "2bbd9810",
   "metadata": {},
   "outputs": [
    {
     "name": "stdout",
     "output_type": "stream",
     "text": [
      "Training Accuracy: 0.914\n",
      "Testing Accuracy: 0.912\n"
     ]
    }
   ],
   "source": [
    "print(f'Training Accuracy: {training_acc}')\n",
    "print(f'Testing Accuracy: {testing_acc}')"
   ]
  },
  {
   "cell_type": "code",
   "execution_count": null,
   "id": "2cfb373c",
   "metadata": {},
   "outputs": [],
   "source": []
  }
 ],
 "metadata": {
  "kernelspec": {
   "display_name": "Python 3 (ipykernel)",
   "language": "python",
   "name": "python3"
  },
  "language_info": {
   "codemirror_mode": {
    "name": "ipython",
    "version": 3
   },
   "file_extension": ".py",
   "mimetype": "text/x-python",
   "name": "python",
   "nbconvert_exporter": "python",
   "pygments_lexer": "ipython3",
   "version": "3.8.16"
  }
 },
 "nbformat": 4,
 "nbformat_minor": 5
}
